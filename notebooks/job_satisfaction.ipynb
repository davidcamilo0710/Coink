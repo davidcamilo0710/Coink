{
 "cells": [
  {
   "cell_type": "code",
   "execution_count": 1,
   "metadata": {},
   "outputs": [],
   "source": [
    "from sklearn import svm\n",
    "from sklearn import metrics\n",
    "import numpy as np\n",
    "import pandas as pd\n",
    "import seaborn as sns\n",
    "from tabulate import tabulate\n",
    "import pandas_profiling\n",
    "import matplotlib.pyplot as plt\n",
    "from sklearn.impute import KNNImputer\n",
    "import matplotlib.pylab as pylab\n",
    "import warnings\n",
    "from IPython.display import IFrame\n",
    "from sklearn.preprocessing import LabelEncoder\n",
    "from sklearn.linear_model import LogisticRegression\n",
    "from sklearn.metrics import classification_report, confusion_matrix\n",
    "from sklearn.tree import DecisionTreeClassifier\n",
    "from sklearn.model_selection import RandomizedSearchCV\n",
    "from sklearn.model_selection import GridSearchCV\n",
    "from sklearn.ensemble import RandomForestClassifier\n",
    "from statsmodels.stats.outliers_influence import variance_inflation_factor\n",
    "from sklearn.preprocessing import StandardScaler\n",
    "from sklearn.naive_bayes import GaussianNB\n",
    "import xgboost\n",
    "from sklearn.model_selection import train_test_split\n",
    "from sklearn.decomposition import PCA\n",
    "%matplotlib inline\n",
    "warnings.filterwarnings('ignore')\n",
    "\n",
    "df = pd.read_excel(\"../data/info_satisfaccion_trabajo.xlsx\")"
   ]
  },
  {
   "cell_type": "code",
   "execution_count": 2,
   "metadata": {},
   "outputs": [
    {
     "data": {
      "application/vnd.jupyter.widget-view+json": {
       "model_id": "a478da24213e4eea8ee81d24348184f8",
       "version_major": 2,
       "version_minor": 0
      },
      "text/plain": [
       "Summarize dataset:   0%|          | 0/5 [00:00<?, ?it/s]"
      ]
     },
     "metadata": {},
     "output_type": "display_data"
    },
    {
     "data": {
      "application/vnd.jupyter.widget-view+json": {
       "model_id": "75949458661341e6896ab191b89461e6",
       "version_major": 2,
       "version_minor": 0
      },
      "text/plain": [
       "Generate report structure:   0%|          | 0/1 [00:00<?, ?it/s]"
      ]
     },
     "metadata": {},
     "output_type": "display_data"
    },
    {
     "data": {
      "application/vnd.jupyter.widget-view+json": {
       "model_id": "b25f3dfcc1084e1ab878a054b0dfc0a8",
       "version_major": 2,
       "version_minor": 0
      },
      "text/plain": [
       "Render HTML:   0%|          | 0/1 [00:00<?, ?it/s]"
      ]
     },
     "metadata": {},
     "output_type": "display_data"
    },
    {
     "data": {
      "application/vnd.jupyter.widget-view+json": {
       "model_id": "09b001fdd7db48b6bee10475f7a0468d",
       "version_major": 2,
       "version_minor": 0
      },
      "text/plain": [
       "Export report to file:   0%|          | 0/1 [00:00<?, ?it/s]"
      ]
     },
     "metadata": {},
     "output_type": "display_data"
    },
    {
     "data": {
      "text/html": [
       "\n",
       "        <iframe\n",
       "            width=\"1000\"\n",
       "            height=\"600\"\n",
       "            src=\"report.html\"\n",
       "            frameborder=\"0\"\n",
       "            allowfullscreen\n",
       "            \n",
       "        ></iframe>\n",
       "        "
      ],
      "text/plain": [
       "<IPython.lib.display.IFrame at 0x1087e97b0>"
      ]
     },
     "execution_count": 2,
     "metadata": {},
     "output_type": "execute_result"
    }
   ],
   "source": [
    "# # Generate report using pandas-profiling\n",
    "# report = df.profile_report()\n",
    "\n",
    "# # Save the report to an HTML file\n",
    "# report.to_file(\"report.html\")\n",
    "\n",
    "# # View the report in the notebook\n",
    "# IFrame(src='report.html', width=1000, height=600)"
   ]
  },
  {
   "attachments": {},
   "cell_type": "markdown",
   "metadata": {},
   "source": [
    "The report shows that the dataset contains 1470 observations and 35 variables, with 15 being numeric, 3 boolean, and 17 categorical. No missing cells or duplicate rows were found in the dataset.\n",
    "\n",
    "The Alerts highlight some important characteristics of the dataset, including the presence of constant variables (EmployeeCount, Over18, StandardHours), and high correlations between several numeric variables, such as Age with TotalWorkingYears, MonthlyIncome with TotalWorkingYears and one other variable, PercentSalaryHike with PerformanceRating, among others. There is also high correlation between categorical variables like Department and EducationField, and JobRole and Department.\n",
    "\n",
    "Overall, the pandas_profiling report provides valuable information about the dataset characteristics, including the distribution and type of variables, as well as relationships and correlations between them. It also detects constant variables and missing or zero values. This information will be useful for developing the requested supervised learning models and for monitoring their performance in case they are deployed for recurrent use in the company."
   ]
  },
  {
   "cell_type": "code",
   "execution_count": 3,
   "metadata": {},
   "outputs": [
    {
     "name": "stdout",
     "output_type": "stream",
     "text": [
      "+--------------------------------------------------------------------+-----------------------+\n",
      "|                               Issue                                |        Details        |\n",
      "+--------------------------------------------------------------------+-----------------------+\n",
      "|                    Number of rows and columns:                     | 1470 rows, 35 columns |\n",
      "|                       Number of null values:                       |         None          |\n",
      "|                       Number of duplicates:                        |         None          |\n",
      "|                    Columns with many outliers:                     |                       |\n",
      "|                         PerformanceRating                          |        15.37%         |\n",
      "|                                                                    |                       |\n",
      "|                  Imbalanced categorical columns:                   |                       |\n",
      "|                             Department                             |                       |\n",
      "|                           EducationField                           |                       |\n",
      "|                              JobRole                               |                       |\n",
      "|                                                                    |                       |\n",
      "|           Categorical columns that need encoding for ML:           |                       |\n",
      "| BusinessTravel, Department, EducationField, JobRole, MaritalStatus |                       |\n",
      "|                                                                    |                       |\n",
      "|             Binary columns that need encoding for ML:              |                       |\n",
      "|                    Attrition, Gender, OverTime                     |                       |\n",
      "|                                                                    |                       |\n",
      "|                Columns with only one unique value:                 |                       |\n",
      "|                EmployeeCount, Over18, StandardHours                |                       |\n",
      "+--------------------------------------------------------------------+-----------------------+\n"
     ]
    }
   ],
   "source": [
    "def dataframe_summary(df):\n",
    "    # Number of rows and columns\n",
    "    summary = []\n",
    "    summary.append([\"Number of rows and columns:\", f\"{df.shape[0]} rows, {df.shape[1]} columns\"])\n",
    "    \n",
    "    # Number of null values\n",
    "    null_counts = df.isnull().sum()\n",
    "    if null_counts.sum() > 0:\n",
    "        null_cols = null_counts[null_counts > 0]\n",
    "        summary.append([\"Number of null values:\", f\"{null_counts.sum()} in total across {len(null_cols)} columns\"])\n",
    "    else :\n",
    "        summary.append([\"Number of null values:\", \"None\"])\n",
    "        \n",
    "    # Number of duplicates\n",
    "    num_duplicates = df.duplicated().sum()\n",
    "    if num_duplicates > 0:\n",
    "        summary.append([\"Number of duplicates:\", f\"{num_duplicates}\"])\n",
    "    else:\n",
    "        summary.append([\"Number of duplicates:\", \"None\"])\n",
    "    \n",
    "    # Columns with many outliers\n",
    "    outlier_threshold = 3\n",
    "    outliers_summary = []\n",
    "    for col in df.select_dtypes(include=np.number).columns:\n",
    "        q1 = df[col].quantile(0.25)\n",
    "        q3 = df[col].quantile(0.75)\n",
    "        interquartile_range = q3 - q1\n",
    "        outliers = ((df[col] < q1 - outlier_threshold*interquartile_range) | (df[col] > q3 + outlier_threshold*interquartile_range))\n",
    "        outlier_percentage = outliers.sum()/df.shape[0]\n",
    "        if outlier_percentage > 0.05:\n",
    "            outliers_summary.append([col, f\"{outlier_percentage:.2%}\"])\n",
    "    \n",
    "    if outliers_summary:\n",
    "        summary.append([\"Columns with many outliers:\", \"\"])\n",
    "        summary.extend(outliers_summary)\n",
    "        summary.append([\"\", \"\"])\n",
    "    \n",
    "    # Imbalanced columns\n",
    "    imbalanced_summary = []\n",
    "    for col in df.select_dtypes(include=[\"object\", \"category\"]).columns:\n",
    "        if df[col].nunique() > 2:\n",
    "            value_counts = df[col].value_counts(normalize=True)\n",
    "            if (value_counts < 0.05).any():\n",
    "                imbalanced_summary.append([col, \"\"])\n",
    "    \n",
    "    if imbalanced_summary:\n",
    "        summary.append([\"Imbalanced categorical columns:\", \"\"])\n",
    "        summary.extend(imbalanced_summary)\n",
    "        summary.append([\"\", \"\"])\n",
    "    \n",
    "    # Categorical columns that need encoding\n",
    "    cat_cols = df.select_dtypes(include=[\"object\", \"category\"]).columns\n",
    "    cat_cols_to_encode = [col for col in cat_cols if len(df[col].value_counts()) > 2]\n",
    "    if cat_cols_to_encode:\n",
    "        summary.append([\"Categorical columns that need encoding for ML:\", \"\"])\n",
    "        summary.append([\", \".join(cat_cols_to_encode), \"\"])\n",
    "        summary.append([\"\", \"\"])\n",
    "    else:\n",
    "        summary.append([\"All categorical columns are encoded for ML.\", \"\"])\n",
    "        summary.append([\"\", \"\"])\n",
    "    \n",
    "    # Binary columns that need encoding\n",
    "    binary_cols = [col for col in df.columns if len(df[col].value_counts()) == 2]\n",
    "    binary_cols_to_encode = [col for col in binary_cols if df[col].dtype == \"object\" or df[col].dtype.name == \"category\"]\n",
    "    if binary_cols_to_encode:\n",
    "        summary.append([\"Binary columns that need encoding for ML:\", \"\"])\n",
    "        summary.append([\", \".join(binary_cols_to_encode), \"\"])\n",
    "        summary.append([\"\", \"\"])\n",
    "    else:\n",
    "        summary.append([\"All binary columns are encoded for ML.\", \"\"])\n",
    "        summary.append([\"\", \"\"])\n",
    "    \n",
    "    # Columns with only one unique value\n",
    "    single_value_cols = [col for col in df.columns if len(df[col].value_counts()) == 1]\n",
    "    if single_value_cols:\n",
    "        summary.append([\"Columns with only one unique value:\", \"\"])\n",
    "        summary.append([\", \".join(single_value_cols), \"\"])\n",
    "    \n",
    "    # Print summary table\n",
    "    print(tabulate(summary, headers=[\"Issue\", \"Details\"], tablefmt=\"pretty\"))\n",
    "\n",
    "dataframe_summary(df)"
   ]
  }
 ],
 "metadata": {
  "kernelspec": {
   "display_name": "Python 3 (ipykernel)",
   "language": "python",
   "name": "python3"
  },
  "language_info": {
   "codemirror_mode": {
    "name": "ipython",
    "version": 3
   },
   "file_extension": ".py",
   "mimetype": "text/x-python",
   "name": "python",
   "nbconvert_exporter": "python",
   "pygments_lexer": "ipython3",
   "version": "3.10.9"
  },
  "vscode": {
   "interpreter": {
    "hash": "b8d892cf65759af0cb64eb5ea1aa9ab0f96e54b257dcd02666ad07491bb72211"
   }
  }
 },
 "nbformat": 4,
 "nbformat_minor": 2
}
